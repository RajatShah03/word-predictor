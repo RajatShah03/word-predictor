{
 "cells": [
  {
   "cell_type": "code",
   "execution_count": null,
   "id": "3ed7e2c6",
   "metadata": {},
   "outputs": [],
   "source": [
    "import numpy as np\n",
    "import heapq\n",
    "import sys\n",
    "import matplotlib.pyplot as plt\n",
    "import tensorflow as tf\n",
    "import tensorflow.keras\n",
    "import pickle\n",
    "import seaborn as sns\n",
    "from pylab import rcParams"
   ]
  },
  {
   "cell_type": "code",
   "execution_count": null,
   "id": "e2263b12",
   "metadata": {},
   "outputs": [],
   "source": [
    "assert len(tf.config.list_physical_devices('GPU')) > 0"
   ]
  },
  {
   "cell_type": "code",
   "execution_count": null,
   "id": "a2b3d11b",
   "metadata": {},
   "outputs": [],
   "source": [
    "np.random.seed(42)\n",
    "tf.random.set_seed(42)\n",
    "\n",
    "sns.set(style='whitegrid', palette='muted', font_scale=1.5)\n",
    "rcParams['figure.figsize'] = 12, 5"
   ]
  },
  {
   "cell_type": "code",
   "execution_count": null,
   "id": "672442b4",
   "metadata": {},
   "outputs": [],
   "source": [
    "# Read the text dataset\n",
    "\n",
    "path = './dataset/train-text.txt'\n",
    "text = open(path).read().lower()\n",
    "\n",
    "print(f\"Text corpus length: {len(text)}\")"
   ]
  },
  {
   "cell_type": "code",
   "execution_count": null,
   "id": "89908d85",
   "metadata": {},
   "outputs": [],
   "source": [
    "# Get all unique words from the corpus\n",
    "# Create char to index and index to char mappings\n",
    "\n",
    "chars = sorted(list(set(text)))\n",
    "\n",
    "char2idx = dict((c, i) for i, c in enumerate(chars))\n",
    "\n",
    "idx2char = dict((i, c) for i, c in enumerate(chars))\n",
    "\n",
    "print(f\"Unique character count: {len(chars)}\")"
   ]
  },
  {
   "cell_type": "code",
   "execution_count": null,
   "id": "83d0810d",
   "metadata": {},
   "outputs": [],
   "source": [
    "# Create sequences of {SEQUENCE_LENGTH} characters\n",
    "# Leaving 3 character space in between two sequences\n",
    "# Create next sequence based on current sequence\n",
    "\n",
    "SEQUENCE_LENGTH = 40\n",
    "STEPS = 3\n",
    "\n",
    "sentences = []\n",
    "next_chars = []\n",
    "\n",
    "for i in range(0, len(text) - SEQUENCE_LENGTH, STEPS):\n",
    "    sentences.append(text[i : i + SEQUENCE_LENGTH])\n",
    "    next_chars.append(text[i + SEQUENCE_LENGTH])\n",
    "\n",
    "print(f\"Number of training examples: {len(sentences)}\")"
   ]
  },
  {
   "cell_type": "code",
   "execution_count": null,
   "id": "bc271202",
   "metadata": {},
   "outputs": [],
   "source": [
    "X = np.zeros((len(sentences), SEQUENCE_LENGTH, len(chars)), dtype=np.float32)\n",
    "y = np.zeros((len(sentences), len(chars)), dtype=np.float32)\n",
    "\n",
    "for i, sentence in enumerate(sentences):\n",
    "    for j, char in enumerate(sentence):\n",
    "        X[i, j, char2idx[char]] = 1.\n",
    "    y[i, char2idx[next_chars[i]]] = 1.\n",
    "\n",
    "print(f\"X shape: {X.shape}\")\n",
    "print(f\"y shape: {y.shape}\")"
   ]
  },
  {
   "cell_type": "code",
   "execution_count": null,
   "id": "d9900fed",
   "metadata": {},
   "outputs": [],
   "source": [
    "# Method to build LSTM model\n",
    "# LSTM - 128 neurons; input_shape=({SEQUENCE_LENGTH}, {UNIQUE_CHARACTER_LENGTH})\n",
    "# Dense - {UNIQUE_CHARACTER_LENGTH} neurons; activation=softmax\n",
    "\n",
    "def build_lstm_model():\n",
    "    lstm_model = tf.keras.Sequential([\n",
    "        tf.keras.layers.LSTM(units=128),\n",
    "        tf.keras.layers.Dense(len(chars), activation=tf.nn.softmax)\n",
    "    ])\n",
    "    \n",
    "    return lstm_model"
   ]
  },
  {
   "cell_type": "code",
   "execution_count": null,
   "id": "3e218174",
   "metadata": {},
   "outputs": [],
   "source": [
    "# Build and compile the model\n",
    "# loss = sparse_categorical_crossentropy\n",
    "# optimizer = RMSProp\n",
    "# metrics = accuracy\n",
    "\n",
    "model = build_lstm_model()\n",
    "\n",
    "LR = 1e-2\n",
    "\n",
    "model.compile(\n",
    "    optimizer=tf.keras.optimizers.Adam(learning_rate=LR),\n",
    "    loss='categorical_crossentropy',\n",
    "    metrics=['accuracy']\n",
    ")"
   ]
  },
  {
   "cell_type": "code",
   "execution_count": null,
   "id": "af43ba61",
   "metadata": {},
   "outputs": [],
   "source": [
    "# Train the model\n",
    "\n",
    "BATCH_SIZE = 128\n",
    "EPOCHS = 30\n",
    "\n",
    "history = model.fit(X, y, batch_size=BATCH_SIZE, epochs=EPOCHS, validation_split=0.05, shuffle=True).history"
   ]
  },
  {
   "cell_type": "code",
   "execution_count": null,
   "id": "b97491dd",
   "metadata": {},
   "outputs": [],
   "source": [
    "plt.plot(history['loss'])\n",
    "plt.plot(history['val_loss'])\n",
    "plt.title('model loss')\n",
    "plt.ylabel('loss')\n",
    "plt.xlabel('epoch')\n",
    "plt.legend(['train', 'val'], loc='upper left');"
   ]
  },
  {
   "cell_type": "code",
   "execution_count": null,
   "id": "25cbbbed",
   "metadata": {},
   "outputs": [],
   "source": [
    "plt.plot(history['accuracy'])\n",
    "plt.plot(history['val_accuracy'])\n",
    "plt.title('model accuracy')\n",
    "plt.ylabel('accuracy')\n",
    "plt.xlabel('epoch')\n",
    "plt.legend(['train', 'val'], loc='upper left');"
   ]
  },
  {
   "cell_type": "code",
   "execution_count": null,
   "id": "9e44691f",
   "metadata": {},
   "outputs": [],
   "source": [
    "# Method to preprocess the input\n",
    "def preprocess_inp(text):\n",
    "    x = np.zeros((1, SEQUENCE_LENGTH, len(chars)), dtype=np.float32)\n",
    "    \n",
    "    for i, char in enumerate(text):\n",
    "        x[0, i, char2idx[char]] = 1.\n",
    "    \n",
    "    return x\n",
    "\n",
    "\n",
    "# Method to sample top_n outputs\n",
    "def sample(preds, top_n=3):\n",
    "    preds = np.asarray(preds).astype(np.float32)\n",
    "    preds = np.log(preds)\n",
    "    exp_preds = np.exp(preds)\n",
    "    preds = exp_preds / np.sum(exp_preds)\n",
    "    \n",
    "    top_suggestions = heapq.nlargest(top_n, range(len(preds)), preds.take)\n",
    "    \n",
    "    return top_suggestions"
   ]
  },
  {
   "cell_type": "code",
   "execution_count": null,
   "id": "337973ad",
   "metadata": {},
   "outputs": [],
   "source": [
    "# Method to predict output text repeatidily based on the input text\n",
    "def predict_repeat(text):\n",
    "    orig_text = text\n",
    "    generated = text\n",
    "    completion = ''\n",
    "    \n",
    "    while True:\n",
    "        x = preprocess_inp(text)\n",
    "        preds = model.predict(x, verbose=[0])[0]\n",
    "        next_idx = sample(preds, top_n=1)[0]\n",
    "        next_char = idx2char[next_idx]\n",
    "        \n",
    "        text = text[1:] + next_char\n",
    "        completion += next_char\n",
    "        \n",
    "        if len(orig_text + completion) + 2 > len(orig_text) and next_char == ' ':\n",
    "            return completion\n",
    "        \n",
    "def predict_completions(text, n=3):\n",
    "    x = preprocess_inp(text)\n",
    "    preds = model.predict(x, verbose=0)[0]\n",
    "    next_indices = sample(preds, n)\n",
    "    return [idx2char[idx] + predict_repeat(text[1:] + idx2char[idx]) for idx in next_indices]"
   ]
  },
  {
   "cell_type": "code",
   "execution_count": null,
   "id": "c2e681d2",
   "metadata": {},
   "outputs": [],
   "source": [
    "quotes = [\n",
    "    \"It is not a lack of love, but a lack of friendship that makes unhappy marriages.\",\n",
    "    \"That which does not kill us makes us stronger.\",\n",
    "    \"I'm not upset that you lied to me, I'm upset that from now on I can't believe you.\",\n",
    "    \"And those who were seen dancing were thought to be insane by those who could not hear the music.\",\n",
    "    \"It is hard enough to remember my opinions, without also remembering my reasons for them!\"\n",
    "]"
   ]
  },
  {
   "cell_type": "code",
   "execution_count": null,
   "id": "20e0d623",
   "metadata": {},
   "outputs": [],
   "source": [
    "for q in quotes:\n",
    "    seq = q[:40].lower()\n",
    "    print(seq)\n",
    "    print(predict_completions(seq, 3))\n",
    "    print()"
   ]
  },
  {
   "cell_type": "code",
   "execution_count": null,
   "id": "0480677b",
   "metadata": {},
   "outputs": [],
   "source": []
  },
  {
   "cell_type": "code",
   "execution_count": null,
   "id": "ce3e65a4",
   "metadata": {},
   "outputs": [],
   "source": []
  }
 ],
 "metadata": {
  "kernelspec": {
   "display_name": "Python 3 (ipykernel)",
   "language": "python",
   "name": "python3"
  },
  "language_info": {
   "codemirror_mode": {
    "name": "ipython",
    "version": 3
   },
   "file_extension": ".py",
   "mimetype": "text/x-python",
   "name": "python",
   "nbconvert_exporter": "python",
   "pygments_lexer": "ipython3",
   "version": "3.9.12"
  }
 },
 "nbformat": 4,
 "nbformat_minor": 5
}
